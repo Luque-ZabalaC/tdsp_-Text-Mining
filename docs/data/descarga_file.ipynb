{
  "nbformat": 4,
  "nbformat_minor": 0,
  "metadata": {
    "colab": {
      "provenance": []
    },
    "kernelspec": {
      "name": "python3",
      "display_name": "Python 3"
    },
    "language_info": {
      "name": "python"
    }
  },
  "cells": [
    {
      "cell_type": "code",
      "execution_count": 7,
      "metadata": {
        "id": "XrEssps2syjY"
      },
      "outputs": [],
      "source": [
        "# Standard libs\n",
        "import pandas as pd\n",
        "import numpy as np\n",
        "from google.colab import drive\n"
      ]
    },
    {
      "cell_type": "code",
      "source": [
        "# Access disk drive\n",
        "drive.mount('/content/drive/')"
      ],
      "metadata": {
        "id": "70V6gZQNtIP-"
      },
      "execution_count": null,
      "outputs": []
    },
    {
      "cell_type": "code",
      "source": [
        "# Load archive zip\n",
        "!wget '/content/drive/.../archive.zip'"
      ],
      "metadata": {
        "id": "lCqZdzambHqG"
      },
      "execution_count": null,
      "outputs": []
    },
    {
      "cell_type": "code",
      "source": [
        "# Unzip and extract files\n",
        "!unzip \"/content/drive/.../archive.zip\" -d \"/content/drive/.../output_folder/\""
      ],
      "metadata": {
        "id": "T8nh6IogbhTe"
      },
      "execution_count": null,
      "outputs": []
    },
    {
      "cell_type": "code",
      "source": [
        "# Reading all the files\n",
        "raw_path = '/content/drive/.../output_folder/'\n",
        "olist_customer = pd.read_csv(raw_path + 'olist_customers_dataset.csv')\n",
        "olist_geolocation = pd.read_csv(raw_path + 'olist_geolocation_dataset.csv')\n",
        "olist_orders = pd.read_csv(raw_path + 'olist_orders_dataset.csv')\n",
        "olist_order_items = pd.read_csv(raw_path + 'olist_order_items_dataset.csv')\n",
        "olist_order_payments = pd.read_csv(raw_path + 'olist_order_payments_dataset.csv')\n",
        "olist_order_reviews = pd.read_csv(raw_path + 'olist_order_reviews_dataset.csv')\n",
        "olist_products = pd.read_csv(raw_path + 'olist_products_dataset.csv')\n",
        "olist_sellers = pd.read_csv(raw_path + 'olist_sellers_dataset.csv')"
      ],
      "metadata": {
        "id": "ZNT5xyqRbqVM"
      },
      "execution_count": 8,
      "outputs": []
    },
    {
      "cell_type": "code",
      "source": [
        "# Collections for each dataset\n",
        "datasets = [olist_customer, olist_geolocation, olist_orders, olist_order_items, olist_order_payments,\n",
        "            olist_order_reviews, olist_products, olist_sellers]\n",
        "names = ['olist_customer', 'olist_geolocation', 'olist_orders', 'olist_order_items', 'olist_order_payments',\n",
        "         'olist_order_reviews', 'olist_products', 'olist_sellers']\n",
        "\n",
        "# Creating a DataFrame with useful information about all datasets\n",
        "data_info = pd.DataFrame({})\n",
        "data_info['dataset'] = names\n",
        "data_info['n_rows'] = [df.shape[0] for df in datasets]\n",
        "data_info['n_cols'] = [df.shape[1] for df in datasets]\n",
        "data_info['null_amount'] = [df.isnull().sum().sum() for df in datasets]\n",
        "data_info['qty_null_columns'] = [len([col for col, null in df.isnull().sum().items() if null > 0]) for df in datasets]\n",
        "data_info['null_columns'] = [', '.join([col for col, null in df.isnull().sum().items() if null > 0]) for df in datasets]\n",
        "\n",
        "data_info.style.background_gradient()"
      ],
      "metadata": {
        "id": "FGZnYgHJcXYS"
      },
      "execution_count": null,
      "outputs": []
    },
    {
      "cell_type": "code",
      "source": [
        "# First records for each dataset\n",
        "for i in range(0,8):\n",
        "  print(f'dataset: {names[i]}')\n",
        "  print('-'*30)\n",
        "  print(datasets[i].head())\n",
        "  print('-'*80)\n",
        "  print(' '*80)"
      ],
      "metadata": {
        "id": "MrLaWjeodBou"
      },
      "execution_count": null,
      "outputs": []
    }
  ]
}