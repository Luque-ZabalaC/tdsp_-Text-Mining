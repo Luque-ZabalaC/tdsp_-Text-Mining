{
  "nbformat": 4,
  "nbformat_minor": 0,
  "metadata": {
    "colab": {
      "provenance": []
    },
    "kernelspec": {
      "name": "python3",
      "display_name": "Python 3"
    },
    "language_info": {
      "name": "python"
    }
  },
  "cells": [
    {
      "cell_type": "code",
      "execution_count": null,
      "metadata": {
        "id": "XrEssps2syjY"
      },
      "outputs": [],
      "source": [
        "# importar bilioteca drive \n",
        "from google.colab import drive\n"
      ]
    },
    {
      "cell_type": "code",
      "source": [
        "# acceder a la unidad de drive\n",
        "drive.mount('/content/drive/')"
      ],
      "metadata": {
        "id": "70V6gZQNtIP-"
      },
      "execution_count": null,
      "outputs": []
    },
    {
      "cell_type": "code",
      "source": [
        "# cargar el archivo zip\n",
        "# colocar en path la ruta del archivo zip\n",
        "!wget path "
      ],
      "metadata": {
        "id": "1BWmdWwXvYrF"
      },
      "execution_count": null,
      "outputs": []
    },
    {
      "cell_type": "code",
      "source": [
        "# descomprimir el archivo\n",
        "!unzip path"
      ],
      "metadata": {
        "id": "j9HugGgYvqla"
      },
      "execution_count": null,
      "outputs": []
    },
    {
      "cell_type": "code",
      "source": [
        "# listar los archivos\n",
        "!ls"
      ],
      "metadata": {
        "id": "SquyKqOsvr0c"
      },
      "execution_count": null,
      "outputs": []
    }
  ]
}