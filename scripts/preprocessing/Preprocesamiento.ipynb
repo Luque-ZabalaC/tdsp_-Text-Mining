{
  "nbformat": 4,
  "nbformat_minor": 0,
  "metadata": {
    "colab": {
      "provenance": []
    },
    "kernelspec": {
      "name": "python3",
      "display_name": "Python 3"
    },
    "language_info": {
      "name": "python"
    }
  },
  "cells": [
    {
      "cell_type": "code",
      "execution_count": null,
      "metadata": {
        "id": "Y5O4dZGRo4jK"
      },
      "outputs": [],
      "source": [
        "!apt-get install libgeos-dev\n",
        "#!pip install https://github.com/matplotlib/basemap/archive/master.zip\n",
        "!pip install pyproj==1.9.6\n",
        "!pip install fasttext\n",
        "!python -m spacy download pt\n",
        "!pip install tensorflow_addons\n",
        "!pip install basemap"
      ]
    },
    {
      "cell_type": "code",
      "source": [
        "import pandas as pd\n",
        "import matplotlib.pyplot as plt\n",
        "import numpy as np\n",
        "import seaborn as sns\n",
        "import spacy\n",
        "import regex as re\n",
        "from datetime import datetime\n",
        "from tqdm import tqdm\n",
        "import pickle\n",
        "import scipy\n",
        "from mpl_toolkits.basemap import Basemap\n",
        "from sklearn.decomposition import TruncatedSVD\n",
        "from sklearn.model_selection import train_test_split, RandomizedSearchCV\n",
        "from sklearn.preprocessing import OneHotEncoder, MinMaxScaler, OrdinalEncoder, StandardScaler\n",
        "from sklearn.linear_model import LogisticRegression, SGDClassifier\n",
        "from sklearn.neighbors import KNeighborsClassifier\n",
        "from sklearn.tree import DecisionTreeClassifier\n",
        "from sklearn.ensemble import RandomForestClassifier\n",
        "from sklearn.feature_extraction.text import TfidfVectorizer\n",
        "from sklearn.calibration import CalibratedClassifierCV\n",
        "from sklearn.metrics import confusion_matrix, accuracy_score, f1_score, log_loss\n",
        "import fasttext.util\n",
        "import warnings\n",
        "from tensorflow_addons.metrics import F1Score\n",
        "from sklearn.utils.extmath import randomized_svd\n",
        "from tensorflow.keras.models import Model\n",
        "from tensorflow.keras.layers import Input, Dense, BatchNormalization, Dropout, Embedding, LSTM, Flatten, Concatenate, Reshape, Conv1D\n",
        "from tensorflow.keras.optimizers import Adam\n",
        "from tensorflow.keras.callbacks import ReduceLROnPlateau, ModelCheckpoint\n",
        "from tensorflow.keras.preprocessing.text import Tokenizer\n",
        "from tensorflow.keras.preprocessing.sequence import pad_sequences\n",
        "from tensorflow.keras.regularizers import l2\n",
        "from xgboost import XGBClassifier\n",
        "from prettytable import PrettyTable\n",
        "from keras.models import load_model\n",
        "from sklearn.metrics import plot_confusion_matrix\n",
        "\n",
        "\n",
        "warnings.filterwarnings(\"ignore\")\n",
        "sns.set_theme(style=\"darkgrid\")"
      ],
      "metadata": {
        "id": "fXSacN8mpEwQ"
      },
      "execution_count": null,
      "outputs": []
    },
    {
      "cell_type": "code",
      "source": [
        "#Access drive\n",
        "from google.colab import drive\n",
        "drive.mount('/content/drive/')"
      ],
      "metadata": {
        "colab": {
          "base_uri": "https://localhost:8080/"
        },
        "id": "A5Eio4PAp5W1",
        "outputId": "2d2698ba-5357-4bb0-f1bb-a437bd74776c"
      },
      "execution_count": null,
      "outputs": [
        {
          "output_type": "stream",
          "name": "stdout",
          "text": [
            "Drive already mounted at /content/drive/; to attempt to forcibly remount, call drive.mount(\"/content/drive/\", force_remount=True).\n"
          ]
        }
      ]
    },
    {
      "cell_type": "code",
      "source": [
        "# Reading all the files\n",
        "raw_path = '/content/drive/MyDrive/ColabNotebooks/06_MetodologiasAgiles/Project/output_folder/'\n",
        "#raw_path ='/content/drive/MyDrive/Colab Notebooks/06_MetodologiasAgiles/Project/output_folder/'\n",
        "olist_order_reviews = pd.read_csv(raw_path + 'olist_order_reviews_dataset.csv')"
      ],
      "metadata": {
        "id": "vHN6aYSVqDJB"
      },
      "execution_count": null,
      "outputs": []
    },
    {
      "cell_type": "code",
      "source": [
        "df_comments = olist_order_reviews.loc[:, ['review_score', 'review_comment_message']]\n",
        "df_comments = df_comments.dropna(subset=['review_comment_message'])\n",
        "df_comments = df_comments.reset_index(drop=True)\n",
        "print(f'Dataset shape: {df_comments.shape}')\n",
        "df_comments.columns = ['score', 'comment']\n",
        "df_comments.head()"
      ],
      "metadata": {
        "colab": {
          "base_uri": "https://localhost:8080/",
          "height": 223
        },
        "id": "_wscoZmIrOc5",
        "outputId": "7b279a21-43bd-4da2-d213-0eea841b0a26"
      },
      "execution_count": null,
      "outputs": [
        {
          "output_type": "stream",
          "name": "stdout",
          "text": [
            "Dataset shape: (40977, 2)\n"
          ]
        },
        {
          "output_type": "execute_result",
          "data": {
            "text/plain": [
              "   score                                            comment\n",
              "0      5              Recebi bem antes do prazo estipulado.\n",
              "1      5  Parabéns lojas lannister adorei comprar pela I...\n",
              "2      4  aparelho eficiente. no site a marca do aparelh...\n",
              "3      4    Mas um pouco ,travando...pelo valor ta Boa.\\r\\n\n",
              "4      5  Vendedor confiável, produto ok e entrega antes..."
            ],
            "text/html": [
              "\n",
              "  <div id=\"df-a856b06d-da40-4a88-a41c-523069500488\">\n",
              "    <div class=\"colab-df-container\">\n",
              "      <div>\n",
              "<style scoped>\n",
              "    .dataframe tbody tr th:only-of-type {\n",
              "        vertical-align: middle;\n",
              "    }\n",
              "\n",
              "    .dataframe tbody tr th {\n",
              "        vertical-align: top;\n",
              "    }\n",
              "\n",
              "    .dataframe thead th {\n",
              "        text-align: right;\n",
              "    }\n",
              "</style>\n",
              "<table border=\"1\" class=\"dataframe\">\n",
              "  <thead>\n",
              "    <tr style=\"text-align: right;\">\n",
              "      <th></th>\n",
              "      <th>score</th>\n",
              "      <th>comment</th>\n",
              "    </tr>\n",
              "  </thead>\n",
              "  <tbody>\n",
              "    <tr>\n",
              "      <th>0</th>\n",
              "      <td>5</td>\n",
              "      <td>Recebi bem antes do prazo estipulado.</td>\n",
              "    </tr>\n",
              "    <tr>\n",
              "      <th>1</th>\n",
              "      <td>5</td>\n",
              "      <td>Parabéns lojas lannister adorei comprar pela I...</td>\n",
              "    </tr>\n",
              "    <tr>\n",
              "      <th>2</th>\n",
              "      <td>4</td>\n",
              "      <td>aparelho eficiente. no site a marca do aparelh...</td>\n",
              "    </tr>\n",
              "    <tr>\n",
              "      <th>3</th>\n",
              "      <td>4</td>\n",
              "      <td>Mas um pouco ,travando...pelo valor ta Boa.\\r\\n</td>\n",
              "    </tr>\n",
              "    <tr>\n",
              "      <th>4</th>\n",
              "      <td>5</td>\n",
              "      <td>Vendedor confiável, produto ok e entrega antes...</td>\n",
              "    </tr>\n",
              "  </tbody>\n",
              "</table>\n",
              "</div>\n",
              "      <button class=\"colab-df-convert\" onclick=\"convertToInteractive('df-a856b06d-da40-4a88-a41c-523069500488')\"\n",
              "              title=\"Convert this dataframe to an interactive table.\"\n",
              "              style=\"display:none;\">\n",
              "        \n",
              "  <svg xmlns=\"http://www.w3.org/2000/svg\" height=\"24px\"viewBox=\"0 0 24 24\"\n",
              "       width=\"24px\">\n",
              "    <path d=\"M0 0h24v24H0V0z\" fill=\"none\"/>\n",
              "    <path d=\"M18.56 5.44l.94 2.06.94-2.06 2.06-.94-2.06-.94-.94-2.06-.94 2.06-2.06.94zm-11 1L8.5 8.5l.94-2.06 2.06-.94-2.06-.94L8.5 2.5l-.94 2.06-2.06.94zm10 10l.94 2.06.94-2.06 2.06-.94-2.06-.94-.94-2.06-.94 2.06-2.06.94z\"/><path d=\"M17.41 7.96l-1.37-1.37c-.4-.4-.92-.59-1.43-.59-.52 0-1.04.2-1.43.59L10.3 9.45l-7.72 7.72c-.78.78-.78 2.05 0 2.83L4 21.41c.39.39.9.59 1.41.59.51 0 1.02-.2 1.41-.59l7.78-7.78 2.81-2.81c.8-.78.8-2.07 0-2.86zM5.41 20L4 18.59l7.72-7.72 1.47 1.35L5.41 20z\"/>\n",
              "  </svg>\n",
              "      </button>\n",
              "      \n",
              "  <style>\n",
              "    .colab-df-container {\n",
              "      display:flex;\n",
              "      flex-wrap:wrap;\n",
              "      gap: 12px;\n",
              "    }\n",
              "\n",
              "    .colab-df-convert {\n",
              "      background-color: #E8F0FE;\n",
              "      border: none;\n",
              "      border-radius: 50%;\n",
              "      cursor: pointer;\n",
              "      display: none;\n",
              "      fill: #1967D2;\n",
              "      height: 32px;\n",
              "      padding: 0 0 0 0;\n",
              "      width: 32px;\n",
              "    }\n",
              "\n",
              "    .colab-df-convert:hover {\n",
              "      background-color: #E2EBFA;\n",
              "      box-shadow: 0px 1px 2px rgba(60, 64, 67, 0.3), 0px 1px 3px 1px rgba(60, 64, 67, 0.15);\n",
              "      fill: #174EA6;\n",
              "    }\n",
              "\n",
              "    [theme=dark] .colab-df-convert {\n",
              "      background-color: #3B4455;\n",
              "      fill: #D2E3FC;\n",
              "    }\n",
              "\n",
              "    [theme=dark] .colab-df-convert:hover {\n",
              "      background-color: #434B5C;\n",
              "      box-shadow: 0px 1px 3px 1px rgba(0, 0, 0, 0.15);\n",
              "      filter: drop-shadow(0px 1px 2px rgba(0, 0, 0, 0.3));\n",
              "      fill: #FFFFFF;\n",
              "    }\n",
              "  </style>\n",
              "\n",
              "      <script>\n",
              "        const buttonEl =\n",
              "          document.querySelector('#df-a856b06d-da40-4a88-a41c-523069500488 button.colab-df-convert');\n",
              "        buttonEl.style.display =\n",
              "          google.colab.kernel.accessAllowed ? 'block' : 'none';\n",
              "\n",
              "        async function convertToInteractive(key) {\n",
              "          const element = document.querySelector('#df-a856b06d-da40-4a88-a41c-523069500488');\n",
              "          const dataTable =\n",
              "            await google.colab.kernel.invokeFunction('convertToInteractive',\n",
              "                                                     [key], {});\n",
              "          if (!dataTable) return;\n",
              "\n",
              "          const docLinkHtml = 'Like what you see? Visit the ' +\n",
              "            '<a target=\"_blank\" href=https://colab.research.google.com/notebooks/data_table.ipynb>data table notebook</a>'\n",
              "            + ' to learn more about interactive tables.';\n",
              "          element.innerHTML = '';\n",
              "          dataTable['output_type'] = 'display_data';\n",
              "          await google.colab.output.renderOutput(dataTable, element);\n",
              "          const docLink = document.createElement('div');\n",
              "          docLink.innerHTML = docLinkHtml;\n",
              "          element.appendChild(docLink);\n",
              "        }\n",
              "      </script>\n",
              "    </div>\n",
              "  </div>\n",
              "  "
            ]
          },
          "metadata": {},
          "execution_count": 127
        }
      ]
    },
    {
      "cell_type": "code",
      "source": [
        "def find_patterns(re_pattern, text_list):\n",
        "    \"\"\"\n",
        "    Args:\n",
        "    ---------\n",
        "    re_pattern: regular expression pattern to be used on search [type: string]\n",
        "    text_list: list with text strings [type: list]\n",
        "    \n",
        "    Returns:\n",
        "    positions_dict: python dictionary with key-value pars as below:\n",
        "        text_idx: [(start_pattern1, end_pattern1), (start_pattern1, end_pattern2), ... (start_n, end_n)]\n",
        "    \"\"\"\n",
        "    \n",
        "    # Compiling the Regular Expression passed as a arg\n",
        "    p = re.compile(re_pattern)\n",
        "    positions_dict = {}\n",
        "    i = 0\n",
        "    for c in text_list:\n",
        "        match_list = []\n",
        "        iterator = p.finditer(c)\n",
        "        for match in iterator:\n",
        "            match_list.append(match.span())\n",
        "        control_key = f'Text idx {i}'\n",
        "        if len(match_list) == 0:\n",
        "            pass\n",
        "        else:\n",
        "            positions_dict[control_key] = match_list\n",
        "        i += 1\n",
        "        \n",
        "    \"\"\"p = '[R]{0,1}\\$[ ]{0,}\\d+(,|\\.)\\d+'\n",
        "    pattern_dict = find_patterns(p, reviews_breakline)\n",
        "    print(len(pattern_dict))\n",
        "    pattern_dict\n",
        "    for idx in [int(c.split(' ')[-1]) for c in list(pattern_dict.keys())]:\n",
        "        print(f'{reviews_breakline[idx]}\\n')\"\"\"\n",
        "\n",
        "    return positions_dict\n",
        "\n",
        "def print_step_result(text_list_before, text_list_after, idx_list):\n",
        "    \"\"\"\n",
        "    Args:\n",
        "    ----------\n",
        "    text_list_before: list object with text content before transformation [type: list]\n",
        "    text_list_after: list object with text content after transformation [type: list]\n",
        "    idx_list: list object with indexes to be printed [type: list]\n",
        "    \"\"\"\n",
        "    \n",
        "    # Iterating over string examples\n",
        "    i = 1\n",
        "    for idx in idx_list:\n",
        "        print(f'--- Text {i} ---\\n')\n",
        "        print(f'Before: \\n{text_list_before[idx]}\\n')\n",
        "        print(f'After: \\n{text_list_after[idx]}\\n')\n",
        "        i += 1"
      ],
      "metadata": {
        "id": "Zu8AgMDxrSbG"
      },
      "execution_count": null,
      "outputs": []
    },
    {
      "cell_type": "code",
      "source": [
        "def re_breakline(text_list):\n",
        "    \"\"\"\n",
        "    Args:\n",
        "    ----------\n",
        "    text_list: list object with text content to be prepared [type: list]\n",
        "    \"\"\"\n",
        "    \n",
        "    # Applying regex\n",
        "    return [re.sub('[\\n\\r]', ' ', r) for r in text_list]"
      ],
      "metadata": {
        "id": "altdALDjrhTF"
      },
      "execution_count": null,
      "outputs": []
    },
    {
      "cell_type": "code",
      "source": [
        "# Creating a list of comment reviews\n",
        "reviews = list(df_comments['comment'].values)\n",
        "\n",
        "# Applying RegEx\n",
        "reviews_breakline = re_breakline(reviews)\n",
        "df_comments['re_breakline'] = reviews_breakline\n",
        "\n",
        "# Verifying results\n",
        "print_step_result(reviews, reviews_breakline, idx_list=[48])"
      ],
      "metadata": {
        "colab": {
          "base_uri": "https://localhost:8080/"
        },
        "id": "uP_CUhIyrieD",
        "outputId": "a9042a85-335d-47d7-9eb1-b967dcd8acbb"
      },
      "execution_count": null,
      "outputs": [
        {
          "output_type": "stream",
          "name": "stdout",
          "text": [
            "--- Text 1 ---\n",
            "\n",
            "Before: \n",
            "Estava faltando apenas um produto, eu recebi hoje , muito obrigada!\r\n",
            "Tudo certo!\r\n",
            "\r\n",
            "Att \r\n",
            "\r\n",
            "Elenice.\n",
            "\n",
            "After: \n",
            "Estava faltando apenas um produto, eu recebi hoje , muito obrigada!  Tudo certo!    Att     Elenice.\n",
            "\n"
          ]
        }
      ]
    },
    {
      "cell_type": "code",
      "source": [
        "def re_hiperlinks(text_list):\n",
        "    \"\"\"\n",
        "    Args:\n",
        "    ----------\n",
        "    text_list: list object with text content to be prepared [type: list]\n",
        "    \"\"\"\n",
        "    \n",
        "    # Applying regex\n",
        "    pattern = 'http[s]?://(?:[a-zA-Z]|[0-9]|[$-_@.&+]|[!*\\(\\),]|(?:%[0-9a-fA-F][0-9a-fA-F]))+'\n",
        "    return [re.sub(pattern, ' link ', r) for r in text_list]"
      ],
      "metadata": {
        "id": "3FhOvgNhrmD7"
      },
      "execution_count": null,
      "outputs": []
    },
    {
      "cell_type": "code",
      "source": [
        "# Applying RegEx\n",
        "reviews_hiperlinks = re_hiperlinks(reviews_breakline)\n",
        "df_comments['re_hiperlinks'] = reviews_hiperlinks\n",
        "\n",
        "# Verifying results\n",
        "print_step_result(reviews_breakline, reviews_hiperlinks, idx_list=[10796, 12782])"
      ],
      "metadata": {
        "colab": {
          "base_uri": "https://localhost:8080/"
        },
        "id": "10SyBNFjrt9s",
        "outputId": "102d1eb7-e08c-41cc-b7aa-9a6d49459fd0"
      },
      "execution_count": null,
      "outputs": [
        {
          "output_type": "stream",
          "name": "stdout",
          "text": [
            "--- Text 1 ---\n",
            "\n",
            "Before: \n",
            "O produto chegou a ser entregue, porém foi recusado, poisja havia cancelado por ter comprado o tamanho errado!\n",
            "\n",
            "After: \n",
            "O produto chegou a ser entregue, porém foi recusado, poisja havia cancelado por ter comprado o tamanho errado!\n",
            "\n",
            "--- Text 2 ---\n",
            "\n",
            "Before: \n",
            "Muito obrigada lannister \n",
            "\n",
            "After: \n",
            "Muito obrigada lannister \n",
            "\n"
          ]
        }
      ]
    },
    {
      "cell_type": "code",
      "source": [
        "def re_dates(text_list):\n",
        "    \"\"\"\n",
        "    Args:\n",
        "    ----------\n",
        "    text_list: list object with text content to be prepared [type: list]\n",
        "    \"\"\"\n",
        "    \n",
        "    # Applying regex\n",
        "    pattern = '([0-2][0-9]|(3)[0-1])(\\/|\\.)(((0)[0-9])|((1)[0-2]))(\\/|\\.)\\d{2,4}'\n",
        "    return [re.sub(pattern, ' data ', r) for r in text_list]"
      ],
      "metadata": {
        "id": "EtwRpBhRrygI"
      },
      "execution_count": null,
      "outputs": []
    },
    {
      "cell_type": "code",
      "source": [
        "# Applying RegEx\n",
        "reviews_dates = re_dates(reviews_hiperlinks)\n",
        "df_comments['re_dates'] = reviews_dates\n",
        "\n",
        "# Verifying results\n",
        "print_step_result(reviews_hiperlinks, reviews_dates, idx_list=[26665])"
      ],
      "metadata": {
        "colab": {
          "base_uri": "https://localhost:8080/"
        },
        "id": "xQqTFKjsr1le",
        "outputId": "3b921088-5576-431f-d8e9-376c47fae4af"
      },
      "execution_count": null,
      "outputs": [
        {
          "output_type": "stream",
          "name": "stdout",
          "text": [
            "--- Text 1 ---\n",
            "\n",
            "Before: \n",
            "Ainda não chegou , vou esperar até o dia 26, prazo que me foi dado. Duas estrelas, só por enquanto.\n",
            "\n",
            "After: \n",
            "Ainda não chegou , vou esperar até o dia 26, prazo que me foi dado. Duas estrelas, só por enquanto.\n",
            "\n"
          ]
        }
      ]
    },
    {
      "cell_type": "code",
      "source": [
        "def re_money(text_list):\n",
        "    \"\"\"\n",
        "    Args:\n",
        "    ----------\n",
        "    text_list: list object with text content to be prepared [type: list]\n",
        "    \"\"\"\n",
        "    \n",
        "    # Applying regex\n",
        "    pattern = '[R]{0,1}\\$[ ]{0,}\\d+(,|\\.)\\d+'\n",
        "    return [re.sub(pattern, ' dinheiro ', r) for r in text_list]"
      ],
      "metadata": {
        "id": "FkSlu-S9r7HJ"
      },
      "execution_count": null,
      "outputs": []
    },
    {
      "cell_type": "code",
      "source": [
        "# Applying RegEx\n",
        "reviews_money = re_money(reviews_dates)\n",
        "df_comments['re_money'] = reviews_money\n",
        "\n",
        "# Verifying results\n",
        "print_step_result(reviews_dates, reviews_money, idx_list=[26020, 33297, 32998])"
      ],
      "metadata": {
        "colab": {
          "base_uri": "https://localhost:8080/"
        },
        "id": "pu-wVn-er9zA",
        "outputId": "0b843345-bd3c-435b-e930-ca75310cae43"
      },
      "execution_count": null,
      "outputs": [
        {
          "output_type": "stream",
          "name": "stdout",
          "text": [
            "--- Text 1 ---\n",
            "\n",
            "Before: \n",
            "Produto bom e chegou no prazo estipulado! \n",
            "\n",
            "After: \n",
            "Produto bom e chegou no prazo estipulado! \n",
            "\n",
            "--- Text 2 ---\n",
            "\n",
            "Before: \n",
            "muito satisfeita\n",
            "\n",
            "After: \n",
            "muito satisfeita\n",
            "\n",
            "--- Text 3 ---\n",
            "\n",
            "Before: \n",
            "embora o prazo seja de 14 dias úteis, o produto comprado no dia 09/05 só veio chegar no dia 2/6 e alem de chegar super atrasado ainda veio o produto errado.\n",
            "\n",
            "After: \n",
            "embora o prazo seja de 14 dias úteis, o produto comprado no dia 09/05 só veio chegar no dia 2/6 e alem de chegar super atrasado ainda veio o produto errado.\n",
            "\n"
          ]
        }
      ]
    },
    {
      "cell_type": "code",
      "source": [
        "def re_numbers(text_list):\n",
        "    \"\"\"\n",
        "    Args:\n",
        "    ----------\n",
        "    text_series: list object with text content to be prepared [type: list]\n",
        "    \"\"\"\n",
        "    \n",
        "    # Applying regex\n",
        "    return [re.sub('[0-9]+', ' numero ', r) for r in text_list]"
      ],
      "metadata": {
        "id": "HLWkAQSYsAo_"
      },
      "execution_count": null,
      "outputs": []
    },
    {
      "cell_type": "code",
      "source": [
        "# Applying RegEx\n",
        "reviews_numbers = re_numbers(reviews_money)\n",
        "df_comments['re_numbers'] = reviews_numbers\n",
        "\n",
        "# Verifying results\n",
        "print_step_result(reviews_money, reviews_numbers, idx_list=[68])"
      ],
      "metadata": {
        "colab": {
          "base_uri": "https://localhost:8080/"
        },
        "id": "xZdlko8FsDYC",
        "outputId": "3cfab06a-6783-413e-8342-fc5c02d09f86"
      },
      "execution_count": null,
      "outputs": [
        {
          "output_type": "stream",
          "name": "stdout",
          "text": [
            "--- Text 1 ---\n",
            "\n",
            "Before: \n",
            "Comprei o produto dia 25 de fevereiro e hoje dia 29 de marco não fora entregue na minha residência. Não sei se os correios desse Brasil e péssimo ou foi a própria loja que demorou postar.\n",
            "\n",
            "After: \n",
            "Comprei o produto dia  numero  de fevereiro e hoje dia  numero  de marco não fora entregue na minha residência. Não sei se os correios desse Brasil e péssimo ou foi a própria loja que demorou postar.\n",
            "\n"
          ]
        }
      ]
    },
    {
      "cell_type": "code",
      "source": [
        "def re_negation(text_list):\n",
        "    \"\"\"\n",
        "    Args:\n",
        "    ----------\n",
        "    text_series: list object with text content to be prepared [type: list]\n",
        "    \"\"\"\n",
        "    \n",
        "    # Applying regex\n",
        "    return [re.sub('([nN][ãÃaA][oO]|[ñÑ]| [nN] )', ' negação ', r) for r in text_list]"
      ],
      "metadata": {
        "id": "DibsBsU3sjJ2"
      },
      "execution_count": null,
      "outputs": []
    },
    {
      "cell_type": "code",
      "source": [
        "# Applying RegEx\n",
        "reviews_negation = re_negation(reviews_numbers)\n",
        "df_comments['re_negation'] = reviews_negation\n",
        "\n",
        "# Verifying results\n",
        "print_step_result(reviews_numbers, reviews_negation, idx_list=[4783, 4627, 4856, 4904])"
      ],
      "metadata": {
        "colab": {
          "base_uri": "https://localhost:8080/"
        },
        "id": "NU2mTuJ-skRk",
        "outputId": "5949df14-c2a2-4df5-eb9c-6ac23352418a"
      },
      "execution_count": null,
      "outputs": [
        {
          "output_type": "stream",
          "name": "stdout",
          "text": [
            "--- Text 1 ---\n",
            "\n",
            "Before: \n",
            "Ótimo relógio estou bastante satisfeito recomendo a todos essa loja está de parabéns obrigado \n",
            "\n",
            "After: \n",
            "Ótimo relógio estou bastante satisfeito recomendo a todos essa loja está de parabéns obrigado \n",
            "\n",
            "--- Text 2 ---\n",
            "\n",
            "Before: \n",
            "Envio muito rápido e chegou muito rápido também. \n",
            "\n",
            "After: \n",
            "Envio muito rápido e chegou muito rápido também. \n",
            "\n",
            "--- Text 3 ---\n",
            "\n",
            "Before: \n",
            "Gostei do produto. Recomendo.\n",
            "\n",
            "After: \n",
            "Gostei do produto. Recomendo.\n",
            "\n",
            "--- Text 4 ---\n",
            "\n",
            "Before: \n",
            "Igualzinho o que eu pedi. Lindo\n",
            "\n",
            "After: \n",
            "Igualzinho o que eu pedi. Lindo\n",
            "\n"
          ]
        }
      ]
    },
    {
      "cell_type": "code",
      "source": [
        "def re_special_chars(text_list):\n",
        "    \"\"\"\n",
        "    Args:\n",
        "    ----------\n",
        "    text_series: list object with text content to be prepared [type: list]\n",
        "    \"\"\"\n",
        "    \n",
        "    # Applying regex\n",
        "    return [re.sub('\\W', ' ', r) for r in text_list]"
      ],
      "metadata": {
        "id": "43vY-JGAsoRi"
      },
      "execution_count": null,
      "outputs": []
    },
    {
      "cell_type": "code",
      "source": [
        "# Applying RegEx\n",
        "reviews_special_chars = re_special_chars(reviews_negation)\n",
        "df_comments['re_special_chars'] = reviews_special_chars\n",
        "\n",
        "# Verifying results\n",
        "print_step_result(reviews_negation, reviews_special_chars, idx_list=[45, 135, 234])"
      ],
      "metadata": {
        "colab": {
          "base_uri": "https://localhost:8080/"
        },
        "id": "8YDrgmZFssLA",
        "outputId": "caf2e482-06ff-4f37-8ce9-9804a7266ae8"
      },
      "execution_count": null,
      "outputs": [
        {
          "output_type": "stream",
          "name": "stdout",
          "text": [
            "--- Text 1 ---\n",
            "\n",
            "Before: \n",
            "Este foi o pedido  Balde Com  numero  Peças - Blocos De Montar  numero  un -  dinheiro  cada ( negação  FOI ENTREGUE)  Vendido e entregue targaryen  Tapete de Eva Nº Letras  numero  Peças Crianças  numero  un -  dinheiro  (ESTE FOI ENTREG\n",
            "\n",
            "After: \n",
            "Este foi o pedido  Balde Com  numero  Peças   Blocos De Montar  numero  un    dinheiro  cada   negação  FOI ENTREGUE   Vendido e entregue targaryen  Tapete de Eva Nº Letras  numero  Peças Crianças  numero  un    dinheiro   ESTE FOI ENTREG\n",
            "\n",
            "--- Text 2 ---\n",
            "\n",
            "Before: \n",
            "Produto  negação  recomendo  negação  ler em nenhum dispositivo\n",
            "\n",
            "After: \n",
            "Produto  negação  recomendo  negação  ler em nenhum dispositivo\n",
            "\n",
            "--- Text 3 ---\n",
            "\n",
            "Before: \n",
            "Produto de ótima qualidade. Adorei!\n",
            "\n",
            "After: \n",
            "Produto de ótima qualidade  Adorei \n",
            "\n"
          ]
        }
      ]
    },
    {
      "cell_type": "code",
      "source": [
        "def re_whitespaces(text_list):\n",
        "    \"\"\"\n",
        "    Args:\n",
        "    ----------\n",
        "    text_series: list object with text content to be prepared [type: list]\n",
        "    \"\"\"\n",
        "    \n",
        "    # Applying regex\n",
        "    white_spaces = [re.sub('\\s+', ' ', r) for r in text_list]\n",
        "    white_spaces_end = [re.sub('[ \\t]+$', '', r) for r in white_spaces]\n",
        "    return white_spaces_end"
      ],
      "metadata": {
        "id": "MvMqt5_Ssvxg"
      },
      "execution_count": null,
      "outputs": []
    },
    {
      "cell_type": "code",
      "source": [
        "# Applying RegEx\n",
        "reviews_whitespaces = re_whitespaces(reviews_special_chars)\n",
        "df_comments['re_whitespaces'] = reviews_whitespaces\n",
        "\n",
        "# Verifying results\n",
        "print_step_result(reviews_special_chars, reviews_whitespaces, idx_list=[3, 4, -1])"
      ],
      "metadata": {
        "colab": {
          "base_uri": "https://localhost:8080/"
        },
        "id": "PAhgZWd4szeX",
        "outputId": "4cda37dd-35da-4ed7-9ace-9b01fc43e2dd"
      },
      "execution_count": null,
      "outputs": [
        {
          "output_type": "stream",
          "name": "stdout",
          "text": [
            "--- Text 1 ---\n",
            "\n",
            "Before: \n",
            "Mas um pouco  travando   pelo valor ta Boa   \n",
            "\n",
            "After: \n",
            "Mas um pouco travando pelo valor ta Boa\n",
            "\n",
            "--- Text 2 ---\n",
            "\n",
            "Before: \n",
            "Vendedor confiável  produto ok e entrega antes do prazo \n",
            "\n",
            "After: \n",
            "Vendedor confiável produto ok e entrega antes do prazo\n",
            "\n",
            "--- Text 3 ---\n",
            "\n",
            "Before: \n",
            "meu produto chegou e ja tenho que devolver  pois está com defeito    negação  segurar carga\n",
            "\n",
            "After: \n",
            "meu produto chegou e ja tenho que devolver pois está com defeito negação segurar carga\n",
            "\n"
          ]
        }
      ]
    },
    {
      "cell_type": "code",
      "source": [
        "# DataPrep\n",
        "import re\n",
        "from nltk.corpus import stopwords\n",
        "from nltk.stem import RSLPStemmer\n",
        "from sklearn.feature_extraction.text import CountVectorizer, TfidfVectorizer\n",
        "from sklearn.base import BaseEstimator, TransformerMixin\n",
        "from sklearn.pipeline import Pipeline\n",
        "import joblib"
      ],
      "metadata": {
        "id": "jh6CPOg2s3Gr"
      },
      "execution_count": null,
      "outputs": []
    },
    {
      "cell_type": "code",
      "source": [
        "# Examples of some portuguese stopwords\n",
        "import nltk\n",
        "nltk.download('stopwords')\n",
        "pt_stopwords = stopwords.words('portuguese')\n",
        "print(f'Total portuguese stopwords in the nltk.corpous module: {len(pt_stopwords)}')\n",
        "pt_stopwords[:10]"
      ],
      "metadata": {
        "id": "fxpWw9gYs9mb"
      },
      "execution_count": null,
      "outputs": []
    },
    {
      "cell_type": "code",
      "source": [
        "# Defining a function to remove the stopwords and to lower the comments\n",
        "def stopwords_removal(text, cached_stopwords=stopwords.words('portuguese')):\n",
        "    \"\"\"\n",
        "    Args:\n",
        "    ----------\n",
        "    text: list object where the stopwords will be removed [type: list]\n",
        "    cached_stopwords: stopwords to be applied on the process [type: list, default: stopwords.words('portuguese')]\n",
        "    \"\"\"\n",
        "    \n",
        "    return [c.lower() for c in text.split() if c.lower() not in cached_stopwords]"
      ],
      "metadata": {
        "id": "BAVvRFtBs_Nt"
      },
      "execution_count": null,
      "outputs": []
    },
    {
      "cell_type": "code",
      "source": [
        "# Removing stopwords and looking at some examples\n",
        "reviews_stopwords = [' '.join(stopwords_removal(review)) for review in reviews_whitespaces]\n",
        "df_comments['stopwords_removed'] = reviews_stopwords\n",
        "\n",
        "print_step_result(reviews_whitespaces, reviews_stopwords, idx_list=[0, 45, 500])"
      ],
      "metadata": {
        "colab": {
          "base_uri": "https://localhost:8080/"
        },
        "id": "cUv1SRPZtESA",
        "outputId": "8609cc00-3bea-4765-b391-b306a83c3ab7"
      },
      "execution_count": null,
      "outputs": [
        {
          "output_type": "stream",
          "name": "stdout",
          "text": [
            "--- Text 1 ---\n",
            "\n",
            "Before: \n",
            "Recebi bem antes do prazo estipulado\n",
            "\n",
            "After: \n",
            "recebi bem antes prazo estipulado\n",
            "\n",
            "--- Text 2 ---\n",
            "\n",
            "Before: \n",
            "Este foi o pedido Balde Com numero Peças Blocos De Montar numero un dinheiro cada negação FOI ENTREGUE Vendido e entregue targaryen Tapete de Eva Nº Letras numero Peças Crianças numero un dinheiro ESTE FOI ENTREG\n",
            "\n",
            "After: \n",
            "pedido balde numero peças blocos montar numero un dinheiro cada negação entregue vendido entregue targaryen tapete eva nº letras numero peças crianças numero un dinheiro entreg\n",
            "\n",
            "--- Text 3 ---\n",
            "\n",
            "Before: \n",
            "Chegou um pouco antes do prazo isso é bom\n",
            "\n",
            "After: \n",
            "chegou pouco antes prazo bom\n",
            "\n"
          ]
        }
      ]
    },
    {
      "cell_type": "code",
      "source": [
        "# Defining a function to remove the stopwords and to lower the comments\n",
        "import nltk\n",
        "nltk.download('rslp')\n",
        "def stemming_process(text, stemmer=RSLPStemmer()):\n",
        "    \"\"\"\n",
        "    Args:\n",
        "    ----------\n",
        "    text: list object where the stopwords will be removed [type: list]\n",
        "    stemmer: type of stemmer to be applied [type: class, default: RSLPStemmer()]\n",
        "    \"\"\"\n",
        "    \n",
        "    return [stemmer.stem(c) for c in text.split()]"
      ],
      "metadata": {
        "colab": {
          "base_uri": "https://localhost:8080/"
        },
        "id": "r3AGkrVRtJ3Y",
        "outputId": "bbb5120d-eb07-4c27-e028-a44a08ad08bc"
      },
      "execution_count": null,
      "outputs": [
        {
          "output_type": "stream",
          "name": "stderr",
          "text": [
            "[nltk_data] Downloading package rslp to /root/nltk_data...\n",
            "[nltk_data]   Package rslp is already up-to-date!\n"
          ]
        }
      ]
    },
    {
      "cell_type": "code",
      "source": [
        "# Applying stemming and looking at some examples\n",
        "reviews_stemmer = [' '.join(stemming_process(review)) for review in reviews_stopwords]\n",
        "df_comments['stemming'] = reviews_stemmer\n",
        "\n",
        "print_step_result(reviews_stopwords, reviews_stemmer, idx_list=[0, 45, -1])"
      ],
      "metadata": {
        "colab": {
          "base_uri": "https://localhost:8080/"
        },
        "id": "LMO5tmlstOCR",
        "outputId": "02e759d2-2018-455f-e778-564eafdea237"
      },
      "execution_count": null,
      "outputs": [
        {
          "output_type": "stream",
          "name": "stdout",
          "text": [
            "--- Text 1 ---\n",
            "\n",
            "Before: \n",
            "recebi bem antes prazo estipulado\n",
            "\n",
            "After: \n",
            "receb bem ant praz estipul\n",
            "\n",
            "--- Text 2 ---\n",
            "\n",
            "Before: \n",
            "pedido balde numero peças blocos montar numero un dinheiro cada negação entregue vendido entregue targaryen tapete eva nº letras numero peças crianças numero un dinheiro entreg\n",
            "\n",
            "After: \n",
            "ped bald numer peç bloc mont numer un dinh cad neg entreg vend entreg targaryen tapet eva nº letr numer peç crianç numer un dinh entreg\n",
            "\n",
            "--- Text 3 ---\n",
            "\n",
            "Before: \n",
            "produto chegou ja devolver pois defeito negação segurar carga\n",
            "\n",
            "After: \n",
            "produt cheg ja devolv poi defeit neg segur carg\n",
            "\n"
          ]
        }
      ]
    },
    {
      "cell_type": "code",
      "source": [
        "df_comments.info()"
      ],
      "metadata": {
        "colab": {
          "base_uri": "https://localhost:8080/"
        },
        "id": "-oVtLNJQJxGj",
        "outputId": "e851a78e-1364-4c26-baa6-2236ab2e502a"
      },
      "execution_count": 212,
      "outputs": [
        {
          "output_type": "stream",
          "name": "stdout",
          "text": [
            "<class 'pandas.core.frame.DataFrame'>\n",
            "RangeIndex: 40977 entries, 0 to 40976\n",
            "Data columns (total 12 columns):\n",
            " #   Column             Non-Null Count  Dtype \n",
            "---  ------             --------------  ----- \n",
            " 0   score              40977 non-null  int64 \n",
            " 1   comment            40977 non-null  object\n",
            " 2   re_breakline       40977 non-null  object\n",
            " 3   re_hiperlinks      40977 non-null  object\n",
            " 4   re_dates           40977 non-null  object\n",
            " 5   re_money           40977 non-null  object\n",
            " 6   re_numbers         40977 non-null  object\n",
            " 7   re_negation        40977 non-null  object\n",
            " 8   re_special_chars   40977 non-null  object\n",
            " 9   re_whitespaces     40977 non-null  object\n",
            " 10  stopwords_removed  40977 non-null  object\n",
            " 11  stemming           40977 non-null  object\n",
            "dtypes: int64(1), object(11)\n",
            "memory usage: 3.8+ MB\n"
          ]
        }
      ]
    },
    {
      "cell_type": "code",
      "source": [
        "df_comments['stemming'][125]"
      ],
      "metadata": {
        "colab": {
          "base_uri": "https://localhost:8080/",
          "height": 35
        },
        "id": "LBHcdzvFQGms",
        "outputId": "d156f5d3-3b67-470e-a950-53bb2bfade71"
      },
      "execution_count": 213,
      "outputs": [
        {
          "output_type": "execute_result",
          "data": {
            "text/plain": [
              "''"
            ],
            "application/vnd.google.colaboratory.intrinsic+json": {
              "type": "string"
            }
          },
          "metadata": {},
          "execution_count": 213
        }
      ]
    },
    {
      "cell_type": "code",
      "source": [
        "df = df_comments[['score','comment','stemming']]"
      ],
      "metadata": {
        "id": "HOMMidj3REJ0"
      },
      "execution_count": 214,
      "outputs": []
    },
    {
      "cell_type": "code",
      "source": [
        "df.head()"
      ],
      "metadata": {
        "colab": {
          "base_uri": "https://localhost:8080/",
          "height": 206
        },
        "id": "v3iGxkmWLoam",
        "outputId": "931f0966-7428-4c31-cdaf-6b7edd6b3d83"
      },
      "execution_count": 216,
      "outputs": [
        {
          "output_type": "execute_result",
          "data": {
            "text/plain": [
              "   score                                            comment  \\\n",
              "0      5              Recebi bem antes do prazo estipulado.   \n",
              "1      5  Parabéns lojas lannister adorei comprar pela I...   \n",
              "2      4  aparelho eficiente. no site a marca do aparelh...   \n",
              "3      4    Mas um pouco ,travando...pelo valor ta Boa.\\r\\n   \n",
              "4      5  Vendedor confiável, produto ok e entrega antes...   \n",
              "\n",
              "                                            stemming  \n",
              "0                         receb bem ant praz estipul  \n",
              "1  parabém loj lannist ador compr internet segur ...  \n",
              "2  aparelh efici sit marc aparelh impress numer d...  \n",
              "3                               pouc trav val ta boa  \n",
              "4               vend confi produt ok entreg ant praz  "
            ],
            "text/html": [
              "\n",
              "  <div id=\"df-1d961dcc-4ec7-4b75-9ee0-df9adf09f8f2\">\n",
              "    <div class=\"colab-df-container\">\n",
              "      <div>\n",
              "<style scoped>\n",
              "    .dataframe tbody tr th:only-of-type {\n",
              "        vertical-align: middle;\n",
              "    }\n",
              "\n",
              "    .dataframe tbody tr th {\n",
              "        vertical-align: top;\n",
              "    }\n",
              "\n",
              "    .dataframe thead th {\n",
              "        text-align: right;\n",
              "    }\n",
              "</style>\n",
              "<table border=\"1\" class=\"dataframe\">\n",
              "  <thead>\n",
              "    <tr style=\"text-align: right;\">\n",
              "      <th></th>\n",
              "      <th>score</th>\n",
              "      <th>comment</th>\n",
              "      <th>stemming</th>\n",
              "    </tr>\n",
              "  </thead>\n",
              "  <tbody>\n",
              "    <tr>\n",
              "      <th>0</th>\n",
              "      <td>5</td>\n",
              "      <td>Recebi bem antes do prazo estipulado.</td>\n",
              "      <td>receb bem ant praz estipul</td>\n",
              "    </tr>\n",
              "    <tr>\n",
              "      <th>1</th>\n",
              "      <td>5</td>\n",
              "      <td>Parabéns lojas lannister adorei comprar pela I...</td>\n",
              "      <td>parabém loj lannist ador compr internet segur ...</td>\n",
              "    </tr>\n",
              "    <tr>\n",
              "      <th>2</th>\n",
              "      <td>4</td>\n",
              "      <td>aparelho eficiente. no site a marca do aparelh...</td>\n",
              "      <td>aparelh efici sit marc aparelh impress numer d...</td>\n",
              "    </tr>\n",
              "    <tr>\n",
              "      <th>3</th>\n",
              "      <td>4</td>\n",
              "      <td>Mas um pouco ,travando...pelo valor ta Boa.\\r\\n</td>\n",
              "      <td>pouc trav val ta boa</td>\n",
              "    </tr>\n",
              "    <tr>\n",
              "      <th>4</th>\n",
              "      <td>5</td>\n",
              "      <td>Vendedor confiável, produto ok e entrega antes...</td>\n",
              "      <td>vend confi produt ok entreg ant praz</td>\n",
              "    </tr>\n",
              "  </tbody>\n",
              "</table>\n",
              "</div>\n",
              "      <button class=\"colab-df-convert\" onclick=\"convertToInteractive('df-1d961dcc-4ec7-4b75-9ee0-df9adf09f8f2')\"\n",
              "              title=\"Convert this dataframe to an interactive table.\"\n",
              "              style=\"display:none;\">\n",
              "        \n",
              "  <svg xmlns=\"http://www.w3.org/2000/svg\" height=\"24px\"viewBox=\"0 0 24 24\"\n",
              "       width=\"24px\">\n",
              "    <path d=\"M0 0h24v24H0V0z\" fill=\"none\"/>\n",
              "    <path d=\"M18.56 5.44l.94 2.06.94-2.06 2.06-.94-2.06-.94-.94-2.06-.94 2.06-2.06.94zm-11 1L8.5 8.5l.94-2.06 2.06-.94-2.06-.94L8.5 2.5l-.94 2.06-2.06.94zm10 10l.94 2.06.94-2.06 2.06-.94-2.06-.94-.94-2.06-.94 2.06-2.06.94z\"/><path d=\"M17.41 7.96l-1.37-1.37c-.4-.4-.92-.59-1.43-.59-.52 0-1.04.2-1.43.59L10.3 9.45l-7.72 7.72c-.78.78-.78 2.05 0 2.83L4 21.41c.39.39.9.59 1.41.59.51 0 1.02-.2 1.41-.59l7.78-7.78 2.81-2.81c.8-.78.8-2.07 0-2.86zM5.41 20L4 18.59l7.72-7.72 1.47 1.35L5.41 20z\"/>\n",
              "  </svg>\n",
              "      </button>\n",
              "      \n",
              "  <style>\n",
              "    .colab-df-container {\n",
              "      display:flex;\n",
              "      flex-wrap:wrap;\n",
              "      gap: 12px;\n",
              "    }\n",
              "\n",
              "    .colab-df-convert {\n",
              "      background-color: #E8F0FE;\n",
              "      border: none;\n",
              "      border-radius: 50%;\n",
              "      cursor: pointer;\n",
              "      display: none;\n",
              "      fill: #1967D2;\n",
              "      height: 32px;\n",
              "      padding: 0 0 0 0;\n",
              "      width: 32px;\n",
              "    }\n",
              "\n",
              "    .colab-df-convert:hover {\n",
              "      background-color: #E2EBFA;\n",
              "      box-shadow: 0px 1px 2px rgba(60, 64, 67, 0.3), 0px 1px 3px 1px rgba(60, 64, 67, 0.15);\n",
              "      fill: #174EA6;\n",
              "    }\n",
              "\n",
              "    [theme=dark] .colab-df-convert {\n",
              "      background-color: #3B4455;\n",
              "      fill: #D2E3FC;\n",
              "    }\n",
              "\n",
              "    [theme=dark] .colab-df-convert:hover {\n",
              "      background-color: #434B5C;\n",
              "      box-shadow: 0px 1px 3px 1px rgba(0, 0, 0, 0.15);\n",
              "      filter: drop-shadow(0px 1px 2px rgba(0, 0, 0, 0.3));\n",
              "      fill: #FFFFFF;\n",
              "    }\n",
              "  </style>\n",
              "\n",
              "      <script>\n",
              "        const buttonEl =\n",
              "          document.querySelector('#df-1d961dcc-4ec7-4b75-9ee0-df9adf09f8f2 button.colab-df-convert');\n",
              "        buttonEl.style.display =\n",
              "          google.colab.kernel.accessAllowed ? 'block' : 'none';\n",
              "\n",
              "        async function convertToInteractive(key) {\n",
              "          const element = document.querySelector('#df-1d961dcc-4ec7-4b75-9ee0-df9adf09f8f2');\n",
              "          const dataTable =\n",
              "            await google.colab.kernel.invokeFunction('convertToInteractive',\n",
              "                                                     [key], {});\n",
              "          if (!dataTable) return;\n",
              "\n",
              "          const docLinkHtml = 'Like what you see? Visit the ' +\n",
              "            '<a target=\"_blank\" href=https://colab.research.google.com/notebooks/data_table.ipynb>data table notebook</a>'\n",
              "            + ' to learn more about interactive tables.';\n",
              "          element.innerHTML = '';\n",
              "          dataTable['output_type'] = 'display_data';\n",
              "          await google.colab.output.renderOutput(dataTable, element);\n",
              "          const docLink = document.createElement('div');\n",
              "          docLink.innerHTML = docLinkHtml;\n",
              "          element.appendChild(docLink);\n",
              "        }\n",
              "      </script>\n",
              "    </div>\n",
              "  </div>\n",
              "  "
            ]
          },
          "metadata": {},
          "execution_count": 216
        }
      ]
    },
    {
      "cell_type": "code",
      "source": [
        "sum(df['stemming'].isna())"
      ],
      "metadata": {
        "colab": {
          "base_uri": "https://localhost:8080/"
        },
        "id": "fKLKbWwJMAIz",
        "outputId": "cfca700e-64e1-4ca6-d6a2-a4a1b97b785d"
      },
      "execution_count": 217,
      "outputs": [
        {
          "output_type": "execute_result",
          "data": {
            "text/plain": [
              "0"
            ]
          },
          "metadata": {},
          "execution_count": 217
        }
      ]
    },
    {
      "cell_type": "code",
      "source": [
        "df.to_csv('text_prep.csv', header=True, index=False) \n"
      ],
      "metadata": {
        "id": "uPnz1764uptu"
      },
      "execution_count": 221,
      "outputs": []
    },
    {
      "cell_type": "code",
      "source": [
        "df_rev = pd.read_csv('/content/text_prep.csv')\n",
        "df_rev.info()"
      ],
      "metadata": {
        "colab": {
          "base_uri": "https://localhost:8080/"
        },
        "id": "t8wX6e3pMKyj",
        "outputId": "7a1a4e2a-4f96-494f-b9ff-574b376af030"
      },
      "execution_count": 222,
      "outputs": [
        {
          "output_type": "stream",
          "name": "stdout",
          "text": [
            "<class 'pandas.core.frame.DataFrame'>\n",
            "RangeIndex: 40977 entries, 0 to 40976\n",
            "Data columns (total 3 columns):\n",
            " #   Column    Non-Null Count  Dtype \n",
            "---  ------    --------------  ----- \n",
            " 0   score     40977 non-null  int64 \n",
            " 1   comment   40977 non-null  object\n",
            " 2   stemming  40817 non-null  object\n",
            "dtypes: int64(1), object(2)\n",
            "memory usage: 960.5+ KB\n"
          ]
        }
      ]
    },
    {
      "cell_type": "code",
      "source": [
        "df_rev['stemming'][125]"
      ],
      "metadata": {
        "colab": {
          "base_uri": "https://localhost:8080/"
        },
        "id": "aByYdsWSQYAK",
        "outputId": "836e643e-2237-4c7c-a328-467ad82e3be6"
      },
      "execution_count": 223,
      "outputs": [
        {
          "output_type": "execute_result",
          "data": {
            "text/plain": [
              "nan"
            ]
          },
          "metadata": {},
          "execution_count": 223
        }
      ]
    }
  ]
}